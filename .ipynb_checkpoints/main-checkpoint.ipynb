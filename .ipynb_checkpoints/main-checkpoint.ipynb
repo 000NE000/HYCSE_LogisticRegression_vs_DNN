{
 "cells": [
  {
   "metadata": {
    "collapsed": true,
    "jupyter": {
     "is_executing": true
    }
   },
   "cell_type": "code",
   "source": [
    "import os  # For file and path handling\n",
    "import torch  # For tensors, generators, etc.\n",
    "from torch.utils.data import DataLoader, random_split  # For data loading/splitting\n",
    "from torchvision import datasets, transforms  # For image datasets and transformations\n",
    "import torch.nn as nn\n",
    "import torch.optim as optim\n",
    "from LogisticModel import LogisticModel\n",
    "from DeepNeuralNetworkmodel import DeepNN\n",
    "from train_and_evalutate import train_model, evaluate_model"
   ],
   "id": "initial_id",
   "outputs": [],
   "execution_count": null
  },
  {
   "metadata": {},
   "cell_type": "markdown",
   "source": [
    "# Preprocess\n",
    "\n",
    "##\n"
   ],
   "id": "422c26752f796d6"
  },
  {
   "metadata": {
    "jupyter": {
     "is_executing": true
    }
   },
   "cell_type": "code",
   "source": [
    "root_dir = os.path.expanduser(\"../chest_xray\")\n",
    "transform = transforms.Compose([\n",
    "    transforms.Grayscale(num_output_channels=1), #Converts RGB images to 1-channel grayscale\n",
    "    transforms.Resize ((128, 128)), #Resizes all images to 128x128 pixels\n",
    "    transforms.ToTensor(), #Converts the PIL image (0–255) to a PyTorch tensor (0–1) and adds a channel dimension (C×H×W).\n",
    "    transforms.Normalize(mean=[0.5], std=[0.5]),\n",
    "])\n",
    "input_dim = 128 * 128 #Calculates the flattened input dimension for the model\n",
    "\n",
    "trainval_ds = datasets.ImageFolder(os.path.join(root_dir, 'train'), transform=transform)\n",
    "test_ds = datasets.ImageFolder(os.path.join(root_dir, 'test'), transform=transform)\n",
    "train_size = int(0.8 * len(trainval_ds))\n",
    "val_size = len(trainval_ds) - train_size\n",
    "train_ds, val_ds = random_split(trainval_ds, [train_size, val_size], generator=torch.Generator().manual_seed(42))\n",
    "\n",
    "train_loader = DataLoader (train_ds, batch_size=32, shuffle=True) #Creates a DataLoader for the training set B = 32\n",
    "val_loader = DataLoader(val_ds, batch_size=32) #Validation DataLoader (no shuffling, deterministic evaluation)\n",
    "test_loader = DataLoader (test_ds, batch_size=32) #Test DataLoader (used during final model evaluation)"
   ],
   "id": "952e600a80f8554c",
   "outputs": [],
   "execution_count": null
  },
  {
   "metadata": {},
   "cell_type": "markdown",
   "source": "# main training",
   "id": "3a2a72bc46f9074"
  },
  {
   "metadata": {},
   "cell_type": "code",
   "outputs": [],
   "execution_count": null,
   "source": [
    "def train_LR(num_epochs, save_path = 'model_LR.pth'):\n",
    "    # Device configuration\n",
    "    device = torch.device(\"cuda\" if torch.cuda.is_available() else \"cpu\")\n",
    "    model_LR = LogisticModel(input_dim).to(device)\n",
    "\n",
    "    # Loss function (BCEWithLogitsLoss automatically includes Sigmoid activation)\n",
    "    criterion = nn.BCEWithLogitsLoss()\n",
    "\n",
    "    # Optimizer: Adam with learning rate 1e-3 and L2 regularization (weight_decay)\n",
    "    optimizer = optim.Adam(model_LR.parameters(), lr=1e-3, weight_decay=1e-4)\n",
    "\n",
    "\n",
    "    # Training loop\n",
    "    for epoch in range(num_epochs):\n",
    "        model_LR.train()\n",
    "        train_loss = train_model(model_LR, train_loader, criterion, optimizer, device)\n",
    "\n",
    "        # Validation Phase\n",
    "        model_LR.eval()\n",
    "        val_loss, val_accuracy = evaluate_model(model_LR, val_loader, criterion, device)\n",
    "\n",
    "        print(f\"Epoch {epoch+1}/{num_epochs} -> Train Loss: {train_loss:.4f}, \" +\n",
    "              f\"Validation Loss: {val_loss:.4f}, Validation Accuracy: {val_accuracy:.4f}\")\n",
    "\n",
    "        # Save the model if validation loss improves\n",
    "        if val_loss < best_val_loss:\n",
    "            best_val_loss = val_loss\n",
    "            torch.save(model_LR.state_dict(), save_path) # Save the trained model's parameters\n",
    "            print(f\"Model saved with validation loss: {best_val_loss:.4f}\")\n"
   ],
   "id": "5bfc6f8c07f8f49b"
  },
  {
   "metadata": {},
   "cell_type": "markdown",
   "source": "",
   "id": "1e47b5e15078a686"
  },
  {
   "metadata": {},
   "cell_type": "code",
   "outputs": [],
   "execution_count": null,
   "source": [
    "def evaluate_LR(save_path='model_LR.pth'):\n",
    "    # Device configuration\n",
    "    device = torch.device(\"cuda\" if torch.cuda.is_available() else \"cpu\")\n",
    "    model_LR = LogisticModel(input_dim).to(device) # Initialize the model architecture with the same input dimension\n",
    "\n",
    "    # Load the saved model parameters\n",
    "    model_LR.load_state_dict(torch.load(save_path, map_location=device))\n",
    "    print(f\"Loaded model from {save_path}\")\n",
    "\n",
    "    # Define the loss function for evaluation (must be consistent with training)\n",
    "    criterion = nn.BCEWithLogitsLoss()\n",
    "\n",
    "    # Evaluate the model using your evaluation function\n",
    "    avg_loss, accuracy = evaluate_model(model_LR, test_loader, criterion, device)\n",
    "    print(f\"Test Loss: {avg_loss:.4f}, Test Accuracy: {accuracy:.4f}\")\n",
    "    return avg_loss, accuracy"
   ],
   "id": "8a1f8b2566666548"
  },
  {
   "metadata": {},
   "cell_type": "markdown",
   "source": "LR",
   "id": "f5c79ed66bb2a028"
  },
  {
   "metadata": {},
   "cell_type": "code",
   "outputs": [],
   "execution_count": null,
   "source": [
    "train_LR(2, save_path='model_LR.pth')\n",
    "evaluate_LR(save_path='model_LR.pth')"
   ],
   "id": "366882dc9bd9f74e"
  }
 ],
 "metadata": {
  "kernelspec": {
   "display_name": "Python 3",
   "language": "python",
   "name": "python3"
  },
  "language_info": {
   "codemirror_mode": {
    "name": "ipython",
    "version": 2
   },
   "file_extension": ".py",
   "mimetype": "text/x-python",
   "name": "python",
   "nbconvert_exporter": "python",
   "pygments_lexer": "ipython2",
   "version": "2.7.6"
  }
 },
 "nbformat": 4,
 "nbformat_minor": 5
}
